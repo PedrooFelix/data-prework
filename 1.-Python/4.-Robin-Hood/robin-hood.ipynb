{
 "cells": [
  {
   "cell_type": "markdown",
   "metadata": {},
   "source": [
    "<img src=\"https://bit.ly/2VnXWr2\" width=\"100\" align=\"left\"/>"
   ]
  },
  {
   "cell_type": "markdown",
   "metadata": {},
   "source": [
    "# Robin Hood\n",
    "Robin Hood has entered a competition to win the archery contest in Sherwood. With his bow and arrows, he needs to shoot on a target and try to hit as close as possible to the center.\n",
    "\n",
    "![](images/arrows.jpg)\n",
    "\n",
    "## Context\n",
    "In this challenge, the landing position of arrows shot by archers in the competition will be represented using 2-dimensional coordinates. \n",
    "\n",
    "In the 2-dimensional space, a point can be defined by a pair of values that correspond to the horizontal coordinate (x) and the vertical coordinate (y). For example, in our case, an arrow that hits the center of the archery target will land in position (0, 0) on the coordinate axes. \n",
    "\n",
    "The space can be divided into 4 zones (quadrants): Q1, Q2, Q3, Q4. If a point is in Q1, both its x coordinate and y coordinate are positive. Any point with a null x or y coordinate is considered to not belong to any quadrant. \n",
    "\n",
    "If you want to know more about the cartesian coordinate system, you can check this [link](https://en.wikipedia.org/wiki/Cartesian_coordinate_system). \n",
    "\n",
    "## Tools\n",
    "You don't necessarily need to use all the tools. Maybe you opt to use some of them or completely different ones, they are given to help you shape the exercise. Programming exercises can be solved in many different ways.\n",
    "* Data structures: **lists, sets, tuples**\n",
    "* Conditional statements: **if-elif-else**\n",
    "* Loop: **while/for**\n",
    "* Minimum (optional sorting)\n",
    "\n",
    "## Tasks\n",
    "Robin Hood has hit the following points:"
   ]
  },
  {
   "cell_type": "code",
   "execution_count": 1,
   "metadata": {},
   "outputs": [],
   "source": [
    "points = [(4, 5), (-0, 2), (4, 7), (1, -3), (3, -2), (4, 5), (3, 2), (5, 7), (-5, 7), (2, 2), (-4, 5), (0, -2),\n",
    "          (-4, 7), (-1, 3), (-3, 2), (-4, -5), (-3, 2), (5, 7), (5, 7), (2, 2), (9, 9), (-8, -9)]"
   ]
  },
  {
   "cell_type": "markdown",
   "metadata": {},
   "source": [
    "#### 1. Robin Hood is famous for hitting an arrow with another arrow. Find the coordinates of the points where an arrow hits another arrow."
   ]
  },
  {
   "cell_type": "code",
   "execution_count": 4,
   "metadata": {},
   "outputs": [
    {
     "name": "stdout",
     "output_type": "stream",
     "text": [
      "Counter({(5, 7): 3, (4, 5): 2, (2, 2): 2, (-3, 2): 2, (0, 2): 1, (4, 7): 1, (1, -3): 1, (3, -2): 1, (3, 2): 1, (-5, 7): 1, (-4, 5): 1, (0, -2): 1, (-4, 7): 1, (-1, 3): 1, (-4, -5): 1, (9, 9): 1, (-8, -9): 1})\n"
     ]
    }
   ],
   "source": [
    "from collections import Counter\n",
    "duplicate_arrow = Counter(points)\n",
    "print(duplicate_arrow)"
   ]
  },
  {
   "cell_type": "markdown",
   "metadata": {},
   "source": [
    "#### 2. Calculate how many arrows have fallen in each quadrant. \n",
    "**Note**: the arrows that fall in the axis (x=0 or y=0) don't belong to any quadrant."
   ]
  },
  {
   "cell_type": "code",
   "execution_count": null,
   "metadata": {},
   "outputs": [],
   "source": [
    "\n",
    "q1arrow = 0\n",
    "q2arrow = 0\n",
    "q3arrow = 0\n",
    "q4arrow = 0\n",
    "\n",
    "for x, y in points:\n",
    "    if (x > 0 and y > 0):\n",
    "        q1arrow += 1\n",
    "    elif (x > 0 and y < 0):\n",
    "        q4arrow += 1\n",
    "    elif (x < 0 and y > 0 ):\n",
    "        q2arrow += 1\n",
    "    elif (x < 0 and y < 0 ):\n",
    "        q3arrow += 1\n",
    "print(\"the sum of arrow in this quarter is:\",q1arrow)\n",
    "print(\"the sum of arrow in this quarter is:\",q3arrow)\n",
    "print(\"the sum of arrow in this quarter is:\",q2arrow)\n",
    "print(\"the sum of arrow in this quarter is:\",q4arrow)\n"
   ]
  },
  {
   "cell_type": "markdown",
   "metadata": {},
   "source": [
    "#### 3. Find the point closest to the center. Calculate its distance to the center. \n",
    "Take into account that there might be more than one point at the minimum distance to the center.\n",
    "\n",
    "**Hint**: Use the Euclidean distance. You can find more information about it [here](https://en.wikipedia.org/wiki/Euclidean_distance).  \n",
    "**Hint**: Defining a function that calculates the distance to the center can help."
   ]
  },
  {
   "cell_type": "code",
   "execution_count": 3,
   "metadata": {
    "scrolled": true
   },
   "outputs": [
    {
     "name": "stdout",
     "output_type": "stream",
     "text": [
      "[[(4, 5), 6.4031242374328485], [(0, 2), 2.0], [(4, 7), 8.06225774829855], [(1, -3), 3.1622776601683795], [(3, -2), 3.605551275463989], [(4, 5), 6.4031242374328485], [(3, 2), 3.605551275463989], [(5, 7), 8.602325267042627], [(-5, 7), 8.602325267042627], [(2, 2), 2.8284271247461903], [(-4, 5), 6.4031242374328485], [(0, -2), 2.0], [(-4, 7), 8.06225774829855], [(-1, 3), 3.1622776601683795], [(-3, 2), 3.605551275463989], [(-4, -5), 6.4031242374328485], [(-3, 2), 3.605551275463989], [(5, 7), 8.602325267042627], [(5, 7), 8.602325267042627], [(2, 2), 2.8284271247461903], [(9, 9), 12.727922061357855], [(-8, -9), 12.041594578792296]]\n"
     ]
    }
   ],
   "source": [
    "def distance(x1, y1, x2, y2):\n",
    "    dx = x2 - x1\n",
    "    dy = y2 - y1\n",
    "    dsquared = dx**2 + dy**2\n",
    "    result = dsquared**0.5\n",
    "    return result\n",
    "\n",
    "b=[]\n",
    "i=0\n",
    "\n",
    "maximum = len(points)\n",
    "for i in range(len(points)):\n",
    "    c = distance(points[i][0], points[i][1], 0, 0)\n",
    "    v = points[i][0], points[i][1]\n",
    "    b.append([v,c])\n",
    "    \n",
    "print(b)\n",
    "    "
   ]
  },
  {
   "cell_type": "code",
   "execution_count": 8,
   "metadata": {},
   "outputs": [
    {
     "name": "stdout",
     "output_type": "stream",
     "text": [
      "(0, 2)\n",
      "(0, -2)\n"
     ]
    }
   ],
   "source": [
    "lst_distancia = []\n",
    "for i in range(len(b)):\n",
    "    lst_distancia.append(b[i][1])\n",
    "for i in range(len(b)):\n",
    "    if b[i][1] == min(lst_distancia):\n",
    "        print(b[i][0])"
   ]
  },
  {
   "cell_type": "markdown",
   "metadata": {},
   "source": [
    "#### 4. If the archery target has a radius of 9, calculate the number of arrows that won't hit the target. \n",
    "**Hint**: Use the function created in step 3. "
   ]
  },
  {
   "cell_type": "code",
   "execution_count": 24,
   "metadata": {},
   "outputs": [
    {
     "name": "stdout",
     "output_type": "stream",
     "text": [
      "None\n",
      "None\n",
      "2\n"
     ]
    }
   ],
   "source": [
    "#retirar os maiores q \n",
    "count_arrows = 0\n",
    "lst_distancia = []\n",
    "\n",
    "for i in range(len(b)):\n",
    "    if b[i][1] >= 9:\n",
    "        lst_distancia.append(b[i][1])\n",
    "        count_arrows += 1\n",
    "        print(lst_distancia.append(b[i][1]))\n",
    "        print(b[i][0])\n",
    "print(count_arrows)\n"
   ]
  },
  {
   "cell_type": "code",
   "execution_count": 11,
   "metadata": {},
   "outputs": [
    {
     "ename": "AttributeError",
     "evalue": "'NoneType' object has no attribute 'sort'",
     "output_type": "error",
     "traceback": [
      "\u001b[0;31m---------------------------------------------------------------------------\u001b[0m",
      "\u001b[0;31mAttributeError\u001b[0m                            Traceback (most recent call last)",
      "\u001b[0;32m<ipython-input-11-42eaa240e57b>\u001b[0m in \u001b[0;36m<module>\u001b[0;34m\u001b[0m\n\u001b[0;32m----> 1\u001b[0;31m \u001b[0mpoints\u001b[0m \u001b[0;34m=\u001b[0m \u001b[0mpoints\u001b[0m\u001b[0;34m.\u001b[0m\u001b[0msort\u001b[0m\u001b[0;34m(\u001b[0m\u001b[0;34m)\u001b[0m\u001b[0;34m\u001b[0m\u001b[0;34m\u001b[0m\u001b[0m\n\u001b[0m\u001b[1;32m      2\u001b[0m \u001b[0mpoints\u001b[0m\u001b[0;34m\u001b[0m\u001b[0;34m\u001b[0m\u001b[0m\n",
      "\u001b[0;31mAttributeError\u001b[0m: 'NoneType' object has no attribute 'sort'"
     ]
    }
   ],
   "source": []
  },
  {
   "cell_type": "code",
   "execution_count": null,
   "metadata": {},
   "outputs": [],
   "source": []
  }
 ],
 "metadata": {
  "kernelspec": {
   "display_name": "Python 3",
   "language": "python",
   "name": "python3"
  },
  "language_info": {
   "codemirror_mode": {
    "name": "ipython",
    "version": 3
   },
   "file_extension": ".py",
   "mimetype": "text/x-python",
   "name": "python",
   "nbconvert_exporter": "python",
   "pygments_lexer": "ipython3",
   "version": "3.9.1"
  }
 },
 "nbformat": 4,
 "nbformat_minor": 2
}
