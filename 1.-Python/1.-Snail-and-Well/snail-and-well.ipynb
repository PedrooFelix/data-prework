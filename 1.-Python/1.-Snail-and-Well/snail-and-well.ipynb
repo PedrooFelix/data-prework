{
 "cells": [
  {
   "cell_type": "markdown",
   "metadata": {},
   "source": [
    "<img src=\"https://bit.ly/2VnXWr2\" width=\"100\" align=\"left\">"
   ]
  },
  {
   "cell_type": "markdown",
   "metadata": {},
   "source": [
    "# The Snail and the Well\n",
    "\n",
    "A snail falls at the bottom of a 125 cm well. Each day the snail rises 30 cm. But at night, while sleeping, slides 20 cm because the walls are wet. How many days does it take for the snail to escape the well?\n",
    "\n",
    "**Hint**: The snail gets out of the well when it surpasses the 125cm of height.\n",
    "\n",
    "## Tools\n",
    "\n",
    "1. Loop: **while**\n",
    "2. Conditional statements: **if-else**\n",
    "3. Function: **print()**\n",
    "\n",
    "## Tasks\n",
    "\n",
    "#### 1. Assign the challenge data to variables with representative names: `well_height`, `daily_distance`, `nightly_distance` and `snail_position`."
   ]
  },
  {
   "cell_type": "code",
   "execution_count": 4,
   "metadata": {},
   "outputs": [],
   "source": [
    "well_height = 125\n",
    "daily_distance = 30\n",
    "nightly_distance = 20\n",
    "snail_position = 0"
   ]
  },
  {
   "cell_type": "markdown",
   "metadata": {},
   "source": [
    "#### 2. Create a variable `days` to keep count of the days that pass until the snail escapes the well. "
   ]
  },
  {
   "cell_type": "code",
   "execution_count": 5,
   "metadata": {},
   "outputs": [],
   "source": [
    "days = 0"
   ]
  },
  {
   "cell_type": "markdown",
   "metadata": {},
   "source": [
    "#### 3. Find the solution to the challenge using the variables defined above. "
   ]
  },
  {
   "cell_type": "code",
   "execution_count": 7,
   "metadata": {},
   "outputs": [],
   "source": [
    "while snail_position < well_height:\n",
    "    days += 1\n",
    "    snail_position += daily_distance\n",
    "if(snail_position < well_height):\n",
    "        snail_position -= nightly_distance\n"
   ]
  },
  {
   "cell_type": "markdown",
   "metadata": {},
   "source": [
    "#### 4. Print the solution."
   ]
  },
  {
   "cell_type": "code",
   "execution_count": 8,
   "metadata": {},
   "outputs": [
    {
     "name": "stdout",
     "output_type": "stream",
     "text": [
      "the snail will scape from the well in  5 days\n"
     ]
    }
   ],
   "source": [
    "print(\"the snail will scape from the well in \", days, \"days\")"
   ]
  },
  {
   "cell_type": "markdown",
   "metadata": {},
   "source": [
    "## Bonus\n",
    "The distance traveled by the snail each day is now defined by a list.\n",
    "```\n",
    "advance_cm = [30, 21, 33, 77, 44, 45, 23, 45, 12, 34, 55]\n",
    "```\n",
    "On the first day, the snail rises 30cm but during the night it slides 20cm. On the second day, the snail rises 21cm but during the night it slides 20cm, and so on. \n",
    "\n",
    "#### 1. How many days does it take for the snail to escape the well?\n",
    "Follow the same guidelines as in the previous challenge.\n",
    "\n",
    "**Hint**: Remember that the snail gets out of the well when it surpasses the 125cm of height."
   ]
  },
  {
   "cell_type": "code",
   "execution_count": 9,
   "metadata": {},
   "outputs": [
    {
     "name": "stdout",
     "output_type": "stream",
     "text": [
      "the snail will scape from the well in  5 days\n"
     ]
    }
   ],
   "source": [
    "advance_cm = [30, 21, 33, 77, 44, 45, 23, 45, 12, 34, 55]\n",
    "i=0\n",
    "while snail_position <= well_height:\n",
    "    days += 1\n",
    "    snail_position += advance_cm[i]\n",
    "    i += 1\n",
    "    if(snail_position <= well_height):\n",
    "        snail_position -= nightly_distance #NIGHTLY\n",
    "        print(snail_position,\"\\n\")\n",
    "\n",
    "\n",
    "print(\"the snail will scape from the well in \", days, \"days\")"
   ]
  },
  {
   "cell_type": "markdown",
   "metadata": {},
   "source": [
    "#### 2. What is its maximum displacement in one day? And its minimum? Calculate the displacement using only the travel distance of the days used to get out of the well. \n",
    "**Hint**: Remember that displacement means the total distance risen taking into account that the snail slides at night.  "
   ]
  },
  {
   "cell_type": "code",
   "execution_count": 10,
   "metadata": {},
   "outputs": [
    {
     "name": "stdout",
     "output_type": "stream",
     "text": [
      "0\n",
      "1\n",
      "2\n",
      "3\n",
      "4\n",
      "5\n",
      "[10, 1, 13, 57, 24, 45]\n",
      "57 1\n",
      "the snail will scape from the well in  6 days\n"
     ]
    }
   ],
   "source": [
    "snail_position = 0\n",
    "well_height = 125\n",
    "days = 0\n",
    "snail_position = 0\n",
    "nightly_distance = 20\n",
    "\n",
    "advance_max = 0\n",
    "advance_min = 0\n",
    "advance_diary = []\n",
    "\n",
    "advance_cm = [30, 21, 33, 77, 44, 45, 23, 45, 12, 34, 55]\n",
    "while snail_position <= well_height:\n",
    "    snail_position += advance_cm[days]\n",
    "    advance_diary.append(advance_cm[days])\n",
    "    if(snail_position <= well_height):\n",
    "        snail_position -= nightly_distance\n",
    "        advance_diary[days] -= nightly_distance\n",
    "    print(days)\n",
    "    days += 1\n",
    "\n",
    "\n",
    "print(advance_diary)\n",
    "advance_max = max(advance_diary)\n",
    "advance_min = min(advance_diary)\n",
    "\n",
    "print(advance_max, advance_min)\n",
    "print(\"the snail will scape from the well in \", days, \"days\")"
   ]
  },
  {
   "cell_type": "markdown",
   "metadata": {},
   "source": [
    "#### 3. What is its average progress? Take into account the snail slides at night."
   ]
  },
  {
   "cell_type": "code",
   "execution_count": 12,
   "metadata": {},
   "outputs": [
    {
     "name": "stdout",
     "output_type": "stream",
     "text": [
      "0\n",
      "1\n",
      "2\n",
      "3\n",
      "4\n",
      "5\n",
      "[10, 1, 13, 57, 24, 45]\n",
      "57 1\n",
      "the snail will scape from the well in  6 days\n"
     ]
    }
   ],
   "source": [
    "snail_position = 0\n",
    "well_height = 125\n",
    "days = 0\n",
    "snail_position = 0\n",
    "nightly_distance = 20\n",
    "\n",
    "advance_max = 0\n",
    "advance_min = 0\n",
    "advance_diary = []\n",
    "\n",
    "advance_cm = [30, 21, 33, 77, 44, 45, 23, 45, 12, 34, 55]\n",
    "while snail_position <= well_height:\n",
    "    snail_position += advance_cm[days]\n",
    "    advance_diary.append(advance_cm[days])\n",
    "    if(snail_position <= well_height):\n",
    "        snail_position -= nightly_distance\n",
    "        advance_diary[days] -= nightly_distance\n",
    "    print(days)\n",
    "    days += 1\n",
    "\n",
    "\n",
    "print(advance_diary)\n",
    "advance_max = max(advance_diary)\n",
    "advance_min = min(advance_diary)\n",
    "\n",
    "print(advance_max, advance_min)\n",
    "print(\"the snail will scape from the well in \", days, \"days\")"
   ]
  },
  {
   "cell_type": "markdown",
   "metadata": {},
   "source": [
    "#### 4. What is the standard deviation of its displacement? Take into account the snail slides at night."
   ]
  },
  {
   "cell_type": "code",
   "execution_count": 39,
   "metadata": {},
   "outputs": [
    {
     "name": "stdout",
     "output_type": "stream",
     "text": [
      "t\n"
     ]
    }
   ],
   "source": []
  },
  {
   "cell_type": "code",
   "execution_count": null,
   "metadata": {},
   "outputs": [],
   "source": []
  }
 ],
 "metadata": {
  "kernelspec": {
   "display_name": "Python 3",
   "language": "python",
   "name": "python3"
  },
  "language_info": {
   "codemirror_mode": {
    "name": "ipython",
    "version": 3
   },
   "file_extension": ".py",
   "mimetype": "text/x-python",
   "name": "python",
   "nbconvert_exporter": "python",
   "pygments_lexer": "ipython3",
   "version": "3.9.1"
  }
 },
 "nbformat": 4,
 "nbformat_minor": 2
}
